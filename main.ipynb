{
  "nbformat": 4,
  "nbformat_minor": 0,
  "metadata": {
    "colab": {
      "provenance": []
    },
    "kernelspec": {
      "name": "python3",
      "display_name": "Python 3"
    },
    "language_info": {
      "name": "python"
    }
  },
  "cells": [
    {
      "cell_type": "markdown",
      "source": [
        "# Data Analysis and Statistical Testing for Research Tools"
      ],
      "metadata": {
        "id": "GUmDaSWpSFnK"
      }
    },
    {
      "cell_type": "code",
      "source": [
        "import numpy as np\n",
        "import matplotlib.pyplot as plt\n",
        "from scipy.stats import norm, chisquare , poisson"
      ],
      "metadata": {
        "id": "T3vou3TgSjwv"
      },
      "execution_count": 107,
      "outputs": []
    },
    {
      "cell_type": "markdown",
      "source": [
        "## Excercise 1 : Confidence Interval & χ² Test"
      ],
      "metadata": {
        "id": "gRCtRcpkSV_Z"
      }
    },
    {
      "cell_type": "code",
      "source": [
        "np.random.seed(0)\n",
        "random_numbers = np.random.exponential(scale=3, size=2000) * 10"
      ],
      "metadata": {
        "id": "BqTFG5BRSUKc"
      },
      "execution_count": 108,
      "outputs": []
    },
    {
      "cell_type": "code",
      "execution_count": 110,
      "metadata": {
        "colab": {
          "base_uri": "https://localhost:8080/",
          "height": 472
        },
        "id": "oX3Q2wDaSAWG",
        "outputId": "bf2bd3e2-bb4e-4206-804b-d542891217f7"
      },
      "outputs": [
        {
          "output_type": "display_data",
          "data": {
            "text/plain": [
              "<Figure size 640x480 with 1 Axes>"
            ],
            "image/png": "[encoded data removed]"
          },
          "metadata": {}
        }
      ],
      "source": [
        "# Plot the histogram of the sample\n",
        "plt.hist(random_numbers, bins=100, edgecolor='black')\n",
        "plt.title(\"Histogram of Random Sample\")\n",
        "plt.xlabel(\"Value\")\n",
        "plt.ylabel(\"Frequency\")\n",
        "plt.show()\n"
      ]
    },
    {
      "cell_type": "code",
      "source": [
        "# Step 2: Calculate the mean (mu) of the sample\n",
        "mu = np.mean(random_numbers)\n",
        "\n",
        "# Step 3: Calculate the standard deviation (std) of the sample\n",
        "std = np.std(random_numbers)\n",
        "\n",
        "# Step 4: Calculate the standard deviation of the sample mean (sigma_mean)\n",
        "N = 2000  # Sample size\n",
        "sigma_mean = std / np.sqrt(N)\n",
        "\n",
        "print(f\"Mean (mu): {mu}\")\n",
        "print(f\"Standard Deviation (std): {std}\")\n",
        "print(f\"Sigma: {sigma_mean}\")"
      ],
      "metadata": {
        "colab": {
          "base_uri": "https://localhost:8080/"
        },
        "id": "TqFLQcelZ7oq",
        "outputId": "d6d93acf-6115-4028-d4f1-48e8bea2609b"
      },
      "execution_count": 111,
      "outputs": [
        {
          "output_type": "stream",
          "name": "stdout",
          "text": [
            "Mean (mu): 31.043868550255937\n",
            "Standard Deviation (std): 31.452067191826433\n",
            "Sigma: 0.7032896027381482\n"
          ]
        }
      ]
    },
    {
      "cell_type": "code",
      "source": [
        "# Define significance level\n",
        "alpha = 0.1"
      ],
      "metadata": {
        "id": "rhRxyYHx0BbA"
      },
      "execution_count": 112,
      "outputs": []
    },
    {
      "cell_type": "code",
      "source": [
        "# Calculate the confidence interval\n",
        "lower_bound = mu + norm.ppf(alpha/2) * sigma_mean\n",
        "upper_bound = mu + norm.ppf(1-alpha/2) * sigma_mean\n",
        "\n",
        "# Output the results\n",
        "print(f\"Confidence Interval: [{lower_bound}, {upper_bound}]\")"
      ],
      "metadata": {
        "colab": {
          "base_uri": "https://localhost:8080/"
        },
        "id": "W2hoPA4fbjnA",
        "outputId": "62bde649-2ea8-40d6-90ca-3f419bfc0aa4"
      },
      "execution_count": 113,
      "outputs": [
        {
          "output_type": "stream",
          "name": "stdout",
          "text": [
            "Confidence Interval: [29.887060096394833, 32.20067700411704]\n"
          ]
        }
      ]
    },
    {
      "cell_type": "markdown",
      "source": [
        "### Chi-square Test\n"
      ],
      "metadata": {
        "id": "q9r5NenYBtbm"
      }
    },
    {
      "cell_type": "code",
      "source": [
        "def perform_chi_squared_test(data, distribution_type):\n",
        "    observed_freq, bins = np.histogram(data, bins='auto')\n",
        "\n",
        "    if distribution_type == 'normal':\n",
        "        mu = np.mean(data)\n",
        "        sigma = np.std(data)\n",
        "        expected_freq = []\n",
        "        for i in range(len(bins) - 1):\n",
        "            lower = bins[i]\n",
        "            upper = bins[i + 1]\n",
        "            prob = norm.cdf(upper, loc=mu, scale=sigma) - norm.cdf(lower, loc=mu, scale=sigma)\n",
        "            expected_freq.append(prob * len(data))\n",
        "    elif distribution_type == 'poisson':\n",
        "        lambda_poisson = np.mean(data)\n",
        "        expected_freq = []\n",
        "        for i in range(len(bins) - 1):\n",
        "            lower = bins[i]\n",
        "            upper = bins[i + 1]\n",
        "            prob = poisson.cdf(upper, mu=lambda_poisson) - poisson.cdf(lower, mu=lambda_poisson)\n",
        "            expected_freq.append(prob * len(data))\n",
        "    else:\n",
        "        print(\"Unsupported distribution type.\")\n",
        "        return\n",
        "\n",
        "    expected_freq = np.array(expected_freq)\n",
        "    valid_bins = expected_freq > 0\n",
        "    observed_freq = observed_freq[valid_bins]\n",
        "    expected_freq = expected_freq[valid_bins]\n",
        "    expected_freq = expected_freq * (np.sum(observed_freq) / np.sum(expected_freq))\n",
        "\n",
        "    chi2_stat, p_value = chisquare(f_obs=observed_freq, f_exp=expected_freq)\n",
        "    print(f\"Chi2 Statistic: {chi2_stat}, p-value: {p_value}\")\n",
        "\n",
        "    if p_value < 0.1:\n",
        "        print(f\"Reject the null hypothesis: Data does not follow the {distribution_type} distribution.\")\n",
        "    else:\n",
        "        print(f\"Fail to reject the null hypothesis: Data follows the {distribution_type} distribution.\")"
      ],
      "metadata": {
        "id": "3UA2qtU7z8_s"
      },
      "execution_count": 116,
      "outputs": []
    },
    {
      "cell_type": "code",
      "source": [
        "print(\"Choose the distribution type for the Chi-squared test:\")\n",
        "print(\"1. Normal distribution\")\n",
        "print(\"2. Poisson distribution\")\n",
        "choice = input(\"Enter the number corresponding to your choice: \")\n",
        "\n",
        "if choice == '1':\n",
        "  np.random.seed(0)\n",
        "  random_numbers = np.random.exponential(scale=3, size=2000) * 10\n",
        "  #random_numbers = np.random.normal(scale=3, size=2000) * 10\n",
        "  perform_chi_squared_test(random_numbers, 'normal')\n",
        "elif choice == '2':\n",
        "  np.random.seed(0)\n",
        "  random_numbers = np.random.exponential(scale=3, size=2000) * 10\n",
        "  #random_numbers = np.random.poisson(lam=3, size=2000)\n",
        "  perform_chi_squared_test(random_numbers, 'poisson')\n",
        "else:\n",
        "  print(\"Invalid choice.\")"
      ],
      "metadata": {
        "colab": {
          "base_uri": "https://localhost:8080/"
        },
        "id": "XgwmJr1JEsCt",
        "outputId": "87208524-15dd-438b-dc43-3f659bc65616"
      },
      "execution_count": 123,
      "outputs": [
        {
          "output_type": "stream",
          "name": "stdout",
          "text": [
            "Choose the distribution type for the Chi-squared test:\n",
            "1. Normal distribution\n",
            "2. Poisson distribution\n",
            "Enter the number corresponding to your choice: 2\n",
            "Chi2 Statistic: 20074320181051.605, p-value: 0.0\n",
            "Reject the null hypothesis: Data does not follow the poisson distribution.\n"
          ]
        }
      ]
    },
    {
      "cell_type": "markdown",
      "source": [
        "## Exercise 2: U Mann-Whitney test , Wilcoxon test"
      ],
      "metadata": {
        "id": "m7vhJs0fPlZU"
      }
    },
    {
      "cell_type": "code",
      "source": [
        "from scipy.stats import mannwhitneyu , wilcoxon\n",
        "\n",
        "sample1 = np.array([371, 352, 397, 378, 347, 366, 387, 366, 378, 359, 361, 382])\n",
        "sample2 = np.array([409, 382, 361, 394, 361, 382, 387, 359, 397, 359, 373, 382])\n",
        "alpha = 0.1  # Significance level\n",
        "\n",
        "# Perform the Mann-Whitney U Test\n",
        "stat, p_value = mannwhitneyu(sample1, sample2)\n",
        "\n",
        "print(f\"U Statistic: {stat}\")\n",
        "print(f\"P-Value: {p_value}\")\n",
        "if p_value < alpha:\n",
        "    print(\"Reject the null hypothesis: The samples come from different populations.\")\n",
        "else:\n",
        "    print(\"Fail to reject the null hypothesis: The samples come from the same population.\")\n",
        "\n",
        "# Perform the Wilcoxon Signed-Rank Test\n",
        "stat, p_value = wilcoxon(sample1, sample2)\n",
        "\n",
        "print(f\"Wilcoxon Statistic: {stat}\")\n",
        "print(f\"P-Value: {p_value}\")\n",
        "if p_value < alpha:\n",
        "    print(\"Reject the null hypothesis: The samples come from different populations.\")\n",
        "else:\n",
        "    print(\"Fail to reject the null hypothesis: The samples come from the same population.\")"
      ],
      "metadata": {
        "colab": {
          "base_uri": "https://localhost:8080/"
        },
        "id": "2fO7yygIPnCc",
        "outputId": "03dba110-8b5f-416a-d042-bfbc94a9ed05"
      },
      "execution_count": 126,
      "outputs": [
        {
          "output_type": "stream",
          "name": "stdout",
          "text": [
            "U Statistic: 51.5\n",
            "P-Value: 0.24594176200937112\n",
            "Fail to reject the null hypothesis: The samples come from the same population.\n",
            "Wilcoxon Statistic: 9.0\n",
            "P-Value: 0.10943302203680204\n",
            "Fail to reject the null hypothesis: The samples come from the same population.\n"
          ]
        }
      ]
    },
    {
      "cell_type": "markdown",
      "source": [
        "## Excercise 3 : ANOVA"
      ],
      "metadata": {
        "id": "tN-pd-RtXvLh"
      }
    },
    {
      "cell_type": "code",
      "source": [
        "from scipy.stats import f_oneway\n",
        "\n",
        "sample_A = np.array([643, 655, 702, 682, 647, 638, 697])\n",
        "sample_B = np.array([469, 427, 525, 489, 452, 510])\n",
        "sample_C = np.array([484, 456, 402, 431, 493])\n",
        "\n",
        "# Perform one-way ANOVA\n",
        "f_statistic, p_value = f_oneway(sample_A, sample_B, sample_C)\n",
        "\n",
        "print(f\"F-statistic: {f_statistic}\")\n",
        "print(f\"P-value: {p_value}\")\n",
        "\n",
        "alpha = 0.05  # Significance level\n",
        "if p_value < alpha:\n",
        "    print(\"Reject the null hypothesis: The samples are not independent (at least one sample mean is different).\")\n",
        "else:\n",
        "    print(\"Fail to reject the null hypothesis: The samples are independent (no significant difference between sample means).\")\n"
      ],
      "metadata": {
        "colab": {
          "base_uri": "https://localhost:8080/"
        },
        "id": "Nr99mzw1Xu7V",
        "outputId": "4fb4c0e9-dbfd-4deb-9bb0-07a27403d7d2"
      },
      "execution_count": 127,
      "outputs": [
        {
          "output_type": "stream",
          "name": "stdout",
          "text": [
            "F-statistic: 77.15453575349866\n",
            "P-value: 1.2752130033984078e-08\n",
            "Reject the null hypothesis: The samples are not independent (at least one sample mean is different).\n"
          ]
        }
      ]
    },
    {
      "cell_type": "markdown",
      "source": [
        "## Excercise 4: Linear regression"
      ],
      "metadata": {
        "id": "Z9DvFsVOiuoO"
      }
    },
    {
      "cell_type": "code",
      "source": [
        "from scipy.stats import linregress\n",
        "\n",
        "X = np.array([2.75, 5.50, 8.25, 11.00, 13.75])\n",
        "Y = np.array([663, 1247, 1453, 2010, 2371])\n",
        "\n",
        "# Perform linear regression\n",
        "slope, intercept, r_value, p_value, std_err = linregress(X, Y)\n",
        "\n",
        "# Calculate the fitted line\n",
        "Y_fit = slope * X + intercept\n",
        "plt.scatter(X, Y, color='blue', label='Data')\n",
        "plt.plot(X, Y_fit, color='red', label='Fitted Line')\n",
        "plt.xlabel('X')\n",
        "plt.ylabel('Y')\n",
        "plt.title('Linear Regression Fit')\n",
        "plt.legend()\n",
        "plt.show()\n",
        "\n",
        "print(f\"Slope: {slope}\")\n",
        "print(f\"Intercept: {intercept}\")\n",
        "print(f\"R-squared: {r_value**2}\")\n",
        "print(f\"P-value: {p_value}\")\n",
        "print(f\"Standard Error: {std_err}\")"
      ],
      "metadata": {
        "colab": {
          "base_uri": "https://localhost:8080/",
          "height": 561
        },
        "id": "Jtbv06BpiuFM",
        "outputId": "13319f8e-cf87-4fd3-f0f3-ae835ad5a471"
      },
      "execution_count": 129,
      "outputs": [
        {
          "output_type": "display_data",
          "data": {
            "text/plain": [
              "<Figure size 640x480 with 1 Axes>"
            ],
            "image/png": "[encoded data removed]"
          },
          "metadata": {}
        },
        {
          "output_type": "stream",
          "name": "stdout",
          "text": [
            "Slope: 151.96363636363637\n",
            "Intercept: 295.0999999999999\n",
            "R-squared: 0.984654724392046\n",
            "P-value: 0.0008105170416138438\n",
            "Standard Error: 10.952781198305775\n"
          ]
        }
      ]
    }
  ]
}